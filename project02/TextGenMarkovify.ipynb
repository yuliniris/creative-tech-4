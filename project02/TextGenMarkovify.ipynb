{
 "cells": [
  {
   "cell_type": "code",
   "execution_count": 1,
   "id": "80072619-87e3-4bdc-b983-118f41834039",
   "metadata": {
    "tags": []
   },
   "outputs": [
    {
     "name": "stdout",
     "output_type": "stream",
     "text": [
      "Requirement already satisfied: markovify in /Users/iris/anaconda3/lib/python3.11/site-packages (0.9.4)\n",
      "Requirement already satisfied: unidecode in /Users/iris/anaconda3/lib/python3.11/site-packages (from markovify) (1.2.0)\n",
      "Note: you may need to restart the kernel to use updated packages.\n"
     ]
    }
   ],
   "source": [
    "pip install markovify"
   ]
  },
  {
   "cell_type": "markdown",
   "id": "9899005d-6a99-4adf-9e53-ce075d6ad66f",
   "metadata": {},
   "source": [
    "getting news about Waymo and Tesla in 2024 from: https://techcrunch.com/ "
   ]
  },
  {
   "cell_type": "code",
   "execution_count": 1,
   "id": "5c739904-1fee-4537-9cdb-a3873c84d189",
   "metadata": {},
   "outputs": [],
   "source": [
    "import markovify"
   ]
  },
  {
   "cell_type": "code",
   "execution_count": 2,
   "id": "dcaa3ea7-506a-42af-a355-99193f657235",
   "metadata": {
    "tags": []
   },
   "outputs": [],
   "source": [
    "import random"
   ]
  },
  {
   "cell_type": "code",
   "execution_count": 15,
   "id": "ade7330c-a1d7-47d2-8d45-0dd43b47a1b6",
   "metadata": {
    "tags": []
   },
   "outputs": [],
   "source": [
    "with open(\"./textForTest.txt\") as f:\n",
    "    text = f.read()"
   ]
  },
  {
   "cell_type": "code",
   "execution_count": 16,
   "id": "f6d1f205-2125-4470-9978-44e661d725ed",
   "metadata": {
    "tags": []
   },
   "outputs": [],
   "source": [
    "with open(\"./textForTestTesla.txt\") as f:\n",
    "    text += f.read()"
   ]
  },
  {
   "cell_type": "code",
   "execution_count": null,
   "id": "0d65fb45-72b1-414d-8a05-a8b040754221",
   "metadata": {
    "jupyter": {
     "source_hidden": true
    },
    "tags": []
   },
   "outputs": [],
   "source": []
  },
  {
   "cell_type": "code",
   "execution_count": 28,
   "id": "b0176fd6-a451-45b4-b3c4-555e759370f9",
   "metadata": {
    "tags": []
   },
   "outputs": [],
   "source": [
    "textModel = markovify.NewlineText(text)"
   ]
  },
  {
   "cell_type": "code",
   "execution_count": 57,
   "id": "0dacab35-5253-4aa1-b396-4cd4628b5174",
   "metadata": {
    "tags": []
   },
   "outputs": [
    {
     "name": "stdout",
     "output_type": "stream",
     "text": [
      "San Francisco and San Mateo County Office of the County Attorney and the public in San Francisco. Waymo is voluntarily recalling the software that powers its robotaxi service in Los Angeles, including from the NTSB.\n",
      "The Saturday night incident, which was captured on video and shared on social media post on X, noting the company started offering curbside drop-off and pickup at the Phoenix area. In December, the company says, though it didn’t offer a timeline for when that will become available.\n",
      "The Dawn Project has campaigned against the use unlawful and noted the commercial has also been posted to the latest encounter between driverless vehicles and the U.S. Securities and Exchange Commission are probing the company.\n",
      "Tesla’s solar installs drop, but battery business is in decline, according to the lawsuit.\n",
      "Elon Musk’s $56B Tesla pay deal is unfair, voiding the largest compensation deal in corporate history.\n"
     ]
    }
   ],
   "source": [
    "for i in range(5):\n",
    "    print(textModel.make_sentence())"
   ]
  },
  {
   "cell_type": "code",
   "execution_count": 59,
   "id": "c78ae527-64db-438f-9de9-8dabca097a8e",
   "metadata": {
    "tags": []
   },
   "outputs": [
    {
     "name": "stdout",
     "output_type": "stream",
     "text": [
      "Tesla sued for allegedly mishandling hazardous waste at facilities throughout the state.\n",
      "Tesla sued for allegedly mishandling hazardous waste at the Phoenix area. In December, the company started offering curbside drop-off and pickup at the facilities going forward as well as civil penalties. Tesla could be on the inside. There’s a small ambient light bar that wraps around the freeways in Phoenix, Arizona, in December. It’s the company’s headquarters.\n",
      "Tesla has also been posted to the settlement talks.\n",
      "Tesla has also been posted to the lawsuit.\n",
      "Tesla has previously been scrutinized for the robot’s domestic feat.\n"
     ]
    }
   ],
   "source": [
    "for i in range(5):\n",
    "    print(textModel.make_sentence_with_start(beginning= \"Tesla\"))"
   ]
  },
  {
   "cell_type": "code",
   "execution_count": null,
   "id": "369ee88b-11b4-420c-adc0-b0bfe556bd20",
   "metadata": {},
   "outputs": [],
   "source": []
  }
 ],
 "metadata": {
  "kernelspec": {
   "display_name": "Python 3 (ipykernel)",
   "language": "python",
   "name": "python3"
  },
  "language_info": {
   "codemirror_mode": {
    "name": "ipython",
    "version": 3
   },
   "file_extension": ".py",
   "mimetype": "text/x-python",
   "name": "python",
   "nbconvert_exporter": "python",
   "pygments_lexer": "ipython3",
   "version": "3.11.5"
  }
 },
 "nbformat": 4,
 "nbformat_minor": 5
}
