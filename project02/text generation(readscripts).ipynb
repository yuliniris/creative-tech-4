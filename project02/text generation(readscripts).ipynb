{
 "cells": [
  {
   "cell_type": "code",
   "execution_count": 58,
   "id": "04186633-7c0e-4e69-9b54-0d6f43ec3b80",
   "metadata": {},
   "outputs": [],
   "source": [
    "def generateTable(text, k):\n",
    "    T= {}\n",
    "    for i in range(len(text)-k):\n",
    "        x = text[i:i+k]\n",
    "        y = text[i+k]\n",
    "        \n",
    "        if T.get(x) is None:\n",
    "            T[x] ={}\n",
    "            T[x][y]=1\n",
    "        else:\n",
    "            if T[x].get(y) is None:\n",
    "                T[x][y] =1\n",
    "            else:\n",
    "                T[x][y]+=1\n",
    "    return T"
   ]
  },
  {
   "cell_type": "code",
   "execution_count": 8,
   "id": "7ba1001d-f355-43c5-b88f-47fd00580941",
   "metadata": {
    "tags": []
   },
   "outputs": [],
   "source": [
    "# T = generateTable (\"Waymo’s application to expand its robotaxi service in Los Angeles and San Mateo counties has been suspended for 120 days by the California Public Utilities Commission’s Consumer Protection and Enforcement Division.The decision doesn’t change Waymo’s ability to commercially operate driverless vehicles in San Francisco.\" , 3)\n"
   ]
  },
  {
   "cell_type": "code",
   "execution_count": 59,
   "id": "14f59686-a9e0-4d9a-8601-f5308c869a45",
   "metadata": {
    "tags": []
   },
   "outputs": [],
   "source": [
    "import json"
   ]
  },
  {
   "cell_type": "code",
   "execution_count": 60,
   "id": "6e63a034-1496-4589-8ddf-1f6bfe267909",
   "metadata": {
    "tags": []
   },
   "outputs": [],
   "source": [
    "with open('GameofThronesArchive/season1.json') as jsonFile:\n",
    "    data = json.load(jsonFile)"
   ]
  },
  {
   "cell_type": "code",
   "execution_count": 61,
   "id": "98f8e271-2e54-4d73-8328-c8782aa55f3c",
   "metadata": {
    "tags": []
   },
   "outputs": [],
   "source": [
    "with open('GameofThrones.txt', 'a') as outfile:\n",
    "    for i,j in data.items():\n",
    "        outfile.write(f\"{i}' '\")\n",
    "        for num, t in j.items():\n",
    "            outfile.write(f\"{t}' '\")\n",
    "        outfile.write(' ')"
   ]
  },
  {
   "cell_type": "code",
   "execution_count": 6,
   "id": "f69d2b1d-d4d7-46e0-842a-d43194ea0305",
   "metadata": {
    "tags": []
   },
   "outputs": [],
   "source": [
    "# T\n"
   ]
  },
  {
   "cell_type": "code",
   "execution_count": 62,
   "id": "ed5e978d-3226-42aa-a8f7-1915d0c94ecd",
   "metadata": {
    "tags": []
   },
   "outputs": [],
   "source": [
    "def convertToProb (T):\n",
    "    for kx in T.keys():\n",
    "        s = sum(T[kx].values())\n",
    "        for k in T[kx].keys():\n",
    "            T[kx][k] =T[kx][k]/s\n",
    "            \n",
    "    return T"
   ]
  },
  {
   "cell_type": "code",
   "execution_count": 5,
   "id": "47047907-f75b-45e6-98a6-a15e61f7c3d9",
   "metadata": {
    "tags": []
   },
   "outputs": [],
   "source": [
    "# convertToProb(T)"
   ]
  },
  {
   "cell_type": "code",
   "execution_count": 13,
   "id": "73fa0e35-8824-484b-b9c3-f137575e803a",
   "metadata": {
    "tags": []
   },
   "outputs": [],
   "source": [
    "# def readText (filepath):\n",
    "#     with open(filepath) as f:\n",
    "#         return f.read().lower()"
   ]
  },
  {
   "cell_type": "code",
   "execution_count": null,
   "id": "2b7dd91a-7238-4d38-affa-49c1151fcb41",
   "metadata": {},
   "outputs": [],
   "source": []
  },
  {
   "cell_type": "code",
   "execution_count": null,
   "id": "a1aee4da-e376-45b0-8058-7ce5fb9e0c94",
   "metadata": {
    "tags": []
   },
   "outputs": [],
   "source": [
    "# def removeNewlines(fname):\n",
    "#     flist = open(fname).readlines()\n",
    "#     return [s.rstip('\\n') for s in flist]"
   ]
  },
  {
   "cell_type": "code",
   "execution_count": 12,
   "id": "6670e03a-aad9-41db-b788-0b6b3b061b28",
   "metadata": {
    "tags": []
   },
   "outputs": [],
   "source": [
    "import re"
   ]
  },
  {
   "cell_type": "code",
   "execution_count": 72,
   "id": "9472ce84-b2fc-4fd7-9954-11cb675035cb",
   "metadata": {
    "tags": []
   },
   "outputs": [],
   "source": [
    "def readText (filepath):\n",
    "    with open(filepath) as f:\n",
    "        filecontent = f.read()\n",
    "    filecontent = filecontent.replace('\\n',' ')\n",
    "    with open(filepath,'w') as f:\n",
    "        f.write(filecontent)\n",
    "    return filecontent.lower()"
   ]
  },
  {
   "cell_type": "code",
   "execution_count": 73,
   "id": "ac01e324-c12e-42e5-add4-200c535b7375",
   "metadata": {
    "tags": []
   },
   "outputs": [],
   "source": [
    "text = readText('./GameofThrones.txt')"
   ]
  },
  {
   "cell_type": "code",
   "execution_count": 15,
   "id": "a3c03642-e213-4136-96ac-be0969061975",
   "metadata": {
    "tags": []
   },
   "outputs": [],
   "source": [
    "# text = readText('./textForTest.txt')"
   ]
  },
  {
   "cell_type": "code",
   "execution_count": 4,
   "id": "d314ee21-8398-43ef-8f31-7cfd5bcee335",
   "metadata": {
    "tags": []
   },
   "outputs": [],
   "source": [
    "# print(text)"
   ]
  },
  {
   "cell_type": "markdown",
   "id": "acbd132e-5145-4377-aa7c-3100c2e0ddeb",
   "metadata": {},
   "source": [
    "Train Markov Chains"
   ]
  },
  {
   "cell_type": "code",
   "execution_count": 74,
   "id": "ed3df62c-f18a-44d2-8cc6-0f91f077320b",
   "metadata": {
    "tags": []
   },
   "outputs": [],
   "source": [
    "def trainMarkovChain(text, k):\n",
    "    T = generateTable(text, k)\n",
    "    T = convertToProb(T)\n",
    "    \n",
    "    return T"
   ]
  },
  {
   "cell_type": "code",
   "execution_count": 75,
   "id": "0310facc-be09-41af-9b25-6662c9948dee",
   "metadata": {
    "tags": []
   },
   "outputs": [],
   "source": [
    "model = trainMarkovChain(text, 3)"
   ]
  },
  {
   "cell_type": "code",
   "execution_count": 76,
   "id": "07273896-d853-48cf-889b-d8edf071db03",
   "metadata": {
    "tags": []
   },
   "outputs": [],
   "source": [
    "import random"
   ]
  },
  {
   "cell_type": "code",
   "execution_count": 77,
   "id": "d51125ce-9b03-47b6-986f-a1d1d3e015d2",
   "metadata": {
    "tags": []
   },
   "outputs": [],
   "source": [
    "def sampleNext(prompt,T,k):\n",
    "    prompt = prompt[-k:]\n",
    "    \n",
    "    if T.get(prompt) is None:\n",
    "        return \" \"\n",
    "    \n",
    "    chars = list(T.get(prompt).keys())\n",
    "    probs = list(T.get(prompt).values())\n",
    "    return random.choices(chars, weights=probs)[0]"
   ]
  },
  {
   "cell_type": "code",
   "execution_count": 82,
   "id": "9ca9d1cd-f6b3-4386-bbe4-995fd20812fe",
   "metadata": {
    "tags": []
   },
   "outputs": [
    {
     "data": {
      "text/plain": [
       "'s'"
      ]
     },
     "execution_count": 82,
     "metadata": {},
     "output_type": "execute_result"
    }
   ],
   "source": [
    "sampleNext(\"i am fine\", model, 3)"
   ]
  },
  {
   "cell_type": "code",
   "execution_count": 79,
   "id": "00d35fb7-de51-4663-ae24-ee5b351c5b56",
   "metadata": {
    "tags": []
   },
   "outputs": [],
   "source": [
    "def generateText(starting, T, k, maxlen):\n",
    "    sentence = starting\n",
    "    prompt = starting[-k:]\n",
    "    \n",
    "    for i in range(maxlen):\n",
    "        next = sampleNext(prompt, T, k)\n",
    "        sentence += next\n",
    "        prompt = sentence[-k:]\n",
    "        \n",
    "    return sentence"
   ]
  },
  {
   "cell_type": "code",
   "execution_count": 83,
   "id": "e2216174-df30-48f4-9d8a-410b7fe79642",
   "metadata": {
    "tags": []
   },
   "outputs": [
    {
     "data": {
      "text/plain": [
       "\"what is the news todays to to use.' 'my of your to be has he'll befor is pain sking?' 'the been land were' 'lit with could head, i'm noings in the king do it his prinking?' 'and you all' 'and thents.' 'what, the invite wolf, what i warf.' '... - not he from to when as have maybe manages or the king make look one i rebelistend give me,' 'i ver peopleastle take! - if here a why is that cate king clus chievery men.' 'not the count, i die.' 'served, if you a kind see you bet how barate the on it.' 'i'm gold it want woulder a crow will sations' 'in todays in the five a big birters a some shough.' 'well you accome alm.' '- saying, you'll to dead for righting. - aye.' '- a sworld tywinted on, it's alway, doth inted i re\""
      ]
     },
     "execution_count": 83,
     "metadata": {},
     "output_type": "execute_result"
    }
   ],
   "source": [
    "generateText('what is the news today',model, k = 3, maxlen=700)\n"
   ]
  },
  {
   "cell_type": "code",
   "execution_count": null,
   "id": "05753a82-4543-4e1c-b6fb-93e98121fa21",
   "metadata": {},
   "outputs": [],
   "source": []
  },
  {
   "cell_type": "code",
   "execution_count": null,
   "id": "1fef9137-bd4a-426a-9df5-233b81e0b891",
   "metadata": {},
   "outputs": [],
   "source": []
  }
 ],
 "metadata": {
  "kernelspec": {
   "display_name": "Python 3 (ipykernel)",
   "language": "python",
   "name": "python3"
  },
  "language_info": {
   "codemirror_mode": {
    "name": "ipython",
    "version": 3
   },
   "file_extension": ".py",
   "mimetype": "text/x-python",
   "name": "python",
   "nbconvert_exporter": "python",
   "pygments_lexer": "ipython3",
   "version": "3.11.5"
  }
 },
 "nbformat": 4,
 "nbformat_minor": 5
}
